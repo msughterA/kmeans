{
 "cells": [
  {
   "cell_type": "markdown",
   "metadata": {},
   "source": [
    "#### A cluster refers to a collection of data points aggregated together because of certain similarities"
   ]
  },
  {
   "cell_type": "markdown",
   "metadata": {},
   "source": [
    "#### the k-means algorithm identifies k number of centroids, and then allocates every data point to the nearest cluster, while keeping the centroids as small as possible"
   ]
  },
  {
   "cell_type": "code",
   "execution_count": 1,
   "metadata": {},
   "outputs": [],
   "source": [
    "# import all the libraries you will need\n",
    "import pandas as pd\n",
    "import numpy as np\n",
    "import matplotlib.pyplot as plt\n",
    "from sklearn.cluster import KMeans\n"
   ]
  },
  {
   "cell_type": "code",
   "execution_count": 3,
   "metadata": {},
   "outputs": [
    {
     "data": {
      "image/png": "[encoded data removed]",
      "text/plain": [
       "<Figure size 432x288 with 1 Axes>"
      ]
     },
     "metadata": {
      "needs_background": "light"
     },
     "output_type": "display_data"
    }
   ],
   "source": [
    "## generating some random data in two dimensional space\n",
    "X=-2*np.random.rand(100,2)\n",
    "\n",
    "X1=1+2*np.random.rand(50,2)\n",
    "X[50:100,:]=X1\n",
    "\n",
    "#plot the graph\n",
    "plt.scatter(X[:,0],X[:,1],s=50,c='b')\n",
    "\n",
    "plt.show()"
   ]
  },
  {
   "cell_type": "code",
   "execution_count": 4,
   "metadata": {},
   "outputs": [
    {
     "data": {
      "text/plain": [
       "(100, 2)"
      ]
     },
     "execution_count": 4,
     "metadata": {},
     "output_type": "execute_result"
    }
   ],
   "source": [
    "X.shape"
   ]
  },
  {
   "cell_type": "code",
   "execution_count": 5,
   "metadata": {},
   "outputs": [
    {
     "data": {
      "text/plain": [
       "KMeans(algorithm='auto', copy_x=True, init='k-means++', max_iter=300,\n",
       "       n_clusters=2, n_init=10, n_jobs=None, precompute_distances='auto',\n",
       "       random_state=None, tol=0.0001, verbose=0)"
      ]
     },
     "execution_count": 5,
     "metadata": {},
     "output_type": "execute_result"
    }
   ],
   "source": [
    "#we'll use some of the available functions in the scikit-learn library to process \n",
    "#the randomly generated dat\n",
    "\n",
    "from sklearn.cluster import KMeans\n",
    "Kmean=KMeans(n_clusters=2)\n",
    "\n",
    "#Fit it on the training data\n",
    "Kmean.fit(X)"
   ]
  },
  {
   "cell_type": "code",
   "execution_count": 7,
   "metadata": {},
   "outputs": [
    {
     "data": {
      "text/plain": [
       "array([[ 2.01581675,  2.08678414],\n",
       "       [-0.94912019, -1.00298434]])"
      ]
     },
     "execution_count": 7,
     "metadata": {},
     "output_type": "execute_result"
    }
   ],
   "source": [
    "#Finding the centroids\n",
    "\n",
    "Kmean.cluster_centers_"
   ]
  },
  {
   "cell_type": "code",
   "execution_count": 10,
   "metadata": {},
   "outputs": [
    {
     "data": {
      "text/plain": [
       "<matplotlib.collections.PathCollection at 0x1fca2bae2e8>"
      ]
     },
     "execution_count": 10,
     "metadata": {},
     "output_type": "execute_result"
    },
    {
     "data": {
      "image/png": "[encoded data removed]",
      "text/plain": [
       "<Figure size 432x288 with 1 Axes>"
      ]
     },
     "metadata": {
      "needs_background": "light"
     },
     "output_type": "display_data"
    }
   ],
   "source": [
    "plt.scatter(X[:,0],X[:,1],s=50,c='b')\n",
    "plt.scatter(2.01581675,2.08678414,s=200,c='g',marker='s')\n",
    "plt.scatter(-0.94912019, -1.00298434,s=200,c='r',marker='s')"
   ]
  },
  {
   "cell_type": "code",
   "execution_count": 11,
   "metadata": {},
   "outputs": [
    {
     "data": {
      "text/plain": [
       "array([1, 1, 1, 1, 1, 1, 1, 1, 1, 1, 1, 1, 1, 1, 1, 1, 1, 1, 1, 1, 1, 1,\n",
       "       1, 1, 1, 1, 1, 1, 1, 1, 1, 1, 1, 1, 1, 1, 1, 1, 1, 1, 1, 1, 1, 1,\n",
       "       1, 1, 1, 1, 1, 1, 0, 0, 0, 0, 0, 0, 0, 0, 0, 0, 0, 0, 0, 0, 0, 0,\n",
       "       0, 0, 0, 0, 0, 0, 0, 0, 0, 0, 0, 0, 0, 0, 0, 0, 0, 0, 0, 0, 0, 0,\n",
       "       0, 0, 0, 0, 0, 0, 0, 0, 0, 0, 0, 0])"
      ]
     },
     "execution_count": 11,
     "metadata": {},
     "output_type": "execute_result"
    }
   ],
   "source": [
    "Kmean.labels_"
   ]
  },
  {
   "cell_type": "code",
   "execution_count": 13,
   "metadata": {},
   "outputs": [
    {
     "data": {
      "text/plain": [
       "array([1])"
      ]
     },
     "execution_count": 13,
     "metadata": {},
     "output_type": "execute_result"
    }
   ],
   "source": [
    "#For example,let's use the code below for predicting the cluster of a data point\n",
    "\n",
    "sample_test=np.array([-3.0,-3.0])\n",
    "\n",
    "second_test=sample_test.reshape(1,-1)\n",
    "\n",
    "Kmean.predict(second_test)"
   ]
  },
  {
   "cell_type": "markdown",
   "metadata": {},
   "source": [
    "## Implementing k-means from scratch on loan prediction dataset"
   ]
  },
  {
   "cell_type": "code",
   "execution_count": 14,
   "metadata": {},
   "outputs": [
    {
     "data": {
      "text/html": [
       "<div>\n",
       "<style scoped>\n",
       "    .dataframe tbody tr th:only-of-type {\n",
       "        vertical-align: middle;\n",
       "    }\n",
       "\n",
       "    .dataframe tbody tr th {\n",
       "        vertical-align: top;\n",
       "    }\n",
       "\n",
       "    .dataframe thead th {\n",
       "        text-align: right;\n",
       "    }\n",
       "</style>\n",
       "<table border=\"1\" class=\"dataframe\">\n",
       "  <thead>\n",
       "    <tr style=\"text-align: right;\">\n",
       "      <th></th>\n",
       "      <th>Loan_ID</th>\n",
       "      <th>Gender</th>\n",
       "      <th>Married</th>\n",
       "      <th>Dependents</th>\n",
       "      <th>Education</th>\n",
       "      <th>Self_Employed</th>\n",
       "      <th>ApplicantIncome</th>\n",
       "      <th>CoapplicantIncome</th>\n",
       "      <th>LoanAmount</th>\n",
       "      <th>Loan_Amount_Term</th>\n",
       "      <th>Credit_History</th>\n",
       "      <th>Property_Area</th>\n",
       "      <th>Loan_Status</th>\n",
       "    </tr>\n",
       "  </thead>\n",
       "  <tbody>\n",
       "    <tr>\n",
       "      <th>0</th>\n",
       "      <td>LP001003</td>\n",
       "      <td>Male</td>\n",
       "      <td>Yes</td>\n",
       "      <td>1</td>\n",
       "      <td>Graduate</td>\n",
       "      <td>No</td>\n",
       "      <td>4583</td>\n",
       "      <td>1508.0</td>\n",
       "      <td>128.0</td>\n",
       "      <td>360.0</td>\n",
       "      <td>1.0</td>\n",
       "      <td>Rural</td>\n",
       "      <td>N</td>\n",
       "    </tr>\n",
       "    <tr>\n",
       "      <th>1</th>\n",
       "      <td>LP001005</td>\n",
       "      <td>Male</td>\n",
       "      <td>Yes</td>\n",
       "      <td>0</td>\n",
       "      <td>Graduate</td>\n",
       "      <td>Yes</td>\n",
       "      <td>3000</td>\n",
       "      <td>0.0</td>\n",
       "      <td>66.0</td>\n",
       "      <td>360.0</td>\n",
       "      <td>1.0</td>\n",
       "      <td>Urban</td>\n",
       "      <td>Y</td>\n",
       "    </tr>\n",
       "    <tr>\n",
       "      <th>2</th>\n",
       "      <td>LP001006</td>\n",
       "      <td>Male</td>\n",
       "      <td>Yes</td>\n",
       "      <td>0</td>\n",
       "      <td>Not Graduate</td>\n",
       "      <td>No</td>\n",
       "      <td>2583</td>\n",
       "      <td>2358.0</td>\n",
       "      <td>120.0</td>\n",
       "      <td>360.0</td>\n",
       "      <td>1.0</td>\n",
       "      <td>Urban</td>\n",
       "      <td>Y</td>\n",
       "    </tr>\n",
       "    <tr>\n",
       "      <th>3</th>\n",
       "      <td>LP001008</td>\n",
       "      <td>Male</td>\n",
       "      <td>No</td>\n",
       "      <td>0</td>\n",
       "      <td>Graduate</td>\n",
       "      <td>No</td>\n",
       "      <td>6000</td>\n",
       "      <td>0.0</td>\n",
       "      <td>141.0</td>\n",
       "      <td>360.0</td>\n",
       "      <td>1.0</td>\n",
       "      <td>Urban</td>\n",
       "      <td>Y</td>\n",
       "    </tr>\n",
       "    <tr>\n",
       "      <th>4</th>\n",
       "      <td>LP001013</td>\n",
       "      <td>Male</td>\n",
       "      <td>Yes</td>\n",
       "      <td>0</td>\n",
       "      <td>Not Graduate</td>\n",
       "      <td>No</td>\n",
       "      <td>2333</td>\n",
       "      <td>1516.0</td>\n",
       "      <td>95.0</td>\n",
       "      <td>360.0</td>\n",
       "      <td>1.0</td>\n",
       "      <td>Urban</td>\n",
       "      <td>Y</td>\n",
       "    </tr>\n",
       "  </tbody>\n",
       "</table>\n",
       "</div>"
      ],
      "text/plain": [
       "    Loan_ID Gender Married Dependents     Education Self_Employed  \\\n",
       "0  LP001003   Male     Yes          1      Graduate            No   \n",
       "1  LP001005   Male     Yes          0      Graduate           Yes   \n",
       "2  LP001006   Male     Yes          0  Not Graduate            No   \n",
       "3  LP001008   Male      No          0      Graduate            No   \n",
       "4  LP001013   Male     Yes          0  Not Graduate            No   \n",
       "\n",
       "   ApplicantIncome  CoapplicantIncome  LoanAmount  Loan_Amount_Term  \\\n",
       "0             4583             1508.0       128.0             360.0   \n",
       "1             3000                0.0        66.0             360.0   \n",
       "2             2583             2358.0       120.0             360.0   \n",
       "3             6000                0.0       141.0             360.0   \n",
       "4             2333             1516.0        95.0             360.0   \n",
       "\n",
       "   Credit_History Property_Area Loan_Status  \n",
       "0             1.0         Rural           N  \n",
       "1             1.0         Urban           Y  \n",
       "2             1.0         Urban           Y  \n",
       "3             1.0         Urban           Y  \n",
       "4             1.0         Urban           Y  "
      ]
     },
     "execution_count": 14,
     "metadata": {},
     "output_type": "execute_result"
    }
   ],
   "source": [
    "data=pd.read_csv('clustering.csv')\n",
    "data.head()"
   ]
  },
  {
   "cell_type": "code",
   "execution_count": 15,
   "metadata": {},
   "outputs": [
    {
     "data": {
      "image/png": "[encoded data removed]",
      "text/plain": [
       "<Figure size 432x288 with 1 Axes>"
      ]
     },
     "metadata": {
      "needs_background": "light"
     },
     "output_type": "display_data"
    }
   ],
   "source": [
    "# we will be taking only two variables from the data\n",
    "# LoanAmount and ApplicantIncome\n",
    "\n",
    "X=data[['LoanAmount','ApplicantIncome']]\n",
    "#Visualise data points\n",
    "plt.scatter(X['ApplicantIncome'],X['LoanAmount'],c='black')\n",
    "plt.xlabel('AnnualIncome')\n",
    "plt.ylabel('Loan Amount (in Thousands)')\n",
    "plt.show()"
   ]
  },
  {
   "cell_type": "code",
   "execution_count": 17,
   "metadata": {},
   "outputs": [
    {
     "data": {
      "image/png": "[encoded data removed]",
      "text/plain": [
       "<Figure size 432x288 with 1 Axes>"
      ]
     },
     "metadata": {
      "needs_background": "light"
     },
     "output_type": "display_data"
    }
   ],
   "source": [
    "# 1. choose number of clusters\n",
    "# 2. select random points\n",
    "\n",
    "#number of clusters\n",
    "K=3\n",
    "\n",
    "Centroids=(X.sample(n=K))\n",
    "plt.scatter(X['ApplicantIncome'],X['LoanAmount'],c='black')\n",
    "plt.scatter(Centroids['ApplicantIncome'],Centroids['LoanAmount'],c='red')\n",
    "plt.xlabel('AnnualIncome')\n",
    "plt.ylabel('Loan Amount (In Thousands)')\n",
    "plt.show()"
   ]
  },
  {
   "cell_type": "code",
   "execution_count": 32,
   "metadata": {},
   "outputs": [
    {
     "name": "stderr",
     "output_type": "stream",
     "text": [
      "C:\\Users\\AYERHAN MSUGHTER\\Anaconda3\\lib\\site-packages\\ipykernel_launcher.py:16: RuntimeWarning: invalid value encountered in sqrt\n",
      "  app.launch_new_instance()\n",
      "C:\\Users\\AYERHAN MSUGHTER\\Anaconda3\\lib\\site-packages\\ipykernel_launcher.py:18: SettingWithCopyWarning: \n",
      "A value is trying to be set on a copy of a slice from a DataFrame.\n",
      "Try using .loc[row_indexer,col_indexer] = value instead\n",
      "\n",
      "See the caveats in the documentation: https://pandas.pydata.org/pandas-docs/stable/user_guide/indexing.html#returning-a-view-versus-a-copy\n",
      "C:\\Users\\AYERHAN MSUGHTER\\Anaconda3\\lib\\site-packages\\ipykernel_launcher.py:31: SettingWithCopyWarning: \n",
      "A value is trying to be set on a copy of a slice from a DataFrame.\n",
      "Try using .loc[row_indexer,col_indexer] = value instead\n",
      "\n",
      "See the caveats in the documentation: https://pandas.pydata.org/pandas-docs/stable/user_guide/indexing.html#returning-a-view-versus-a-copy\n"
     ]
    },
    {
     "name": "stdout",
     "output_type": "stream",
     "text": [
      "621.4167825791267\n",
      "594.8703389013556\n",
      "495.4530962148649\n",
      "411.5082319856306\n",
      "214.97705293301496\n",
      "216.13679395380288\n",
      "291.606746212626\n",
      "258.90753757049157\n",
      "241.2093187786661\n",
      "178.66459038974455\n",
      "106.35771350307328\n",
      "52.84741626127729\n",
      "98.54724443834282\n",
      "90.64953219227577\n",
      "18.274686272279013\n",
      "-0.4336795986145887\n",
      "0.0\n"
     ]
    }
   ],
   "source": [
    "#3.  Assign all the points to the closest cluster centroid\n",
    "#4. Recompute centroids of newly formed clusters\n",
    "#5. Repeat step 3 and 4\n",
    "\n",
    "diff=1\n",
    "j=0\n",
    "\n",
    "while(diff!=0):\n",
    "    XD=X\n",
    "    i=1\n",
    "    for index1,row_c in Centroids.iterrows():\n",
    "        ED=[]\n",
    "        for index2,row_d in XD.iterrows():\n",
    "            d1=(row_c['ApplicantIncome']-row_d['ApplicantIncome'])**2\n",
    "            d2=(row_c['LoanAmount']-row_d['LoanAmount'])\n",
    "            d=np.sqrt(d1+d2)\n",
    "            ED.append(d)\n",
    "        X[i]=ED\n",
    "        i=i+1\n",
    "        \n",
    "    C=[]\n",
    "    for index,row in X.iterrows():\n",
    "        min_dist=row[1]\n",
    "        pos=1\n",
    "        for i in range(K):\n",
    "            f=i+1\n",
    "            if row[f] < min_dist:\n",
    "                min_dist=row[f]\n",
    "                pos=i+1\n",
    "        C.append(pos)\n",
    "    X['Cluster']=C    \n",
    "    Centroids_new=X.groupby(['Cluster']).mean()[['LoanAmount','ApplicantIncome']] \n",
    "    if j==0:\n",
    "        diff=1\n",
    "        j=j+1\n",
    "    else:\n",
    "        diff = (Centroids_new['LoanAmount'] - Centroids['LoanAmount']).sum() + (Centroids_new['ApplicantIncome'] - Centroids['ApplicantIncome']).sum()\n",
    "        print(diff.sum())\n",
    "    Centroids = X.groupby([\"Cluster\"]).mean()[[\"LoanAmount\",\"ApplicantIncome\"]]    "
   ]
  },
  {
   "cell_type": "code",
   "execution_count": 34,
   "metadata": {},
   "outputs": [
    {
     "data": {
      "image/png": "[encoded data removed]",
      "text/plain": [
       "<Figure size 432x288 with 1 Axes>"
      ]
     },
     "metadata": {
      "needs_background": "light"
     },
     "output_type": "display_data"
    }
   ],
   "source": [
    "color=['blue','green','cyan']\n",
    "for k in range(K):\n",
    "    data=X[X['Cluster']==k+1]\n",
    "    plt.scatter(data[\"ApplicantIncome\"],data[\"LoanAmount\"],c=color[k])\n",
    "plt.scatter(Centroids[\"ApplicantIncome\"],Centroids[\"LoanAmount\"],c='red')\n",
    "plt.xlabel('Income')\n",
    "plt.ylabel('Loan Amount (In Thousands)')\n",
    "plt.show()"
   ]
  },
  {
   "cell_type": "code",
   "execution_count": 36,
   "metadata": {},
   "outputs": [
    {
     "name": "stdout",
     "output_type": "stream",
     "text": [
      "     LoanAmount  ApplicantIncome           1            2            3  \\\n",
      "0         128.0             4583  581.606859  1901.065791  2097.582591   \n",
      "9         125.0             4950  948.614546  1534.066197  2464.584286   \n",
      "10        100.0             3596  405.389250  2888.071455  1110.588712   \n",
      "11         76.0             3510  491.411589  2974.075396  1024.600325   \n",
      "12        133.0             4887  885.609454  1597.063770  2401.582473   \n",
      "..          ...              ...         ...          ...          ...   \n",
      "370        94.0             4750  748.633088  1734.075364  2264.590636   \n",
      "373       142.0             3859  142.263677  2625.063784  1373.573648   \n",
      "374       110.0             3833  168.376294  2651.069862  1347.585208   \n",
      "379        40.0             4106  104.954936  2378.084773  1620.607593   \n",
      "380       133.0             4583  581.602561  1901.064476  2097.581399   \n",
      "\n",
      "     Cluster  \n",
      "0          1  \n",
      "9          1  \n",
      "10         1  \n",
      "11         1  \n",
      "12         1  \n",
      "..       ...  \n",
      "370        1  \n",
      "373        1  \n",
      "374        1  \n",
      "379        1  \n",
      "380        1  \n",
      "\n",
      "[159 rows x 6 columns]\n",
      "     LoanAmount  ApplicantIncome            1            2            3  \\\n",
      "3         141.0             6000  1998.614796   484.045363  3514.583683   \n",
      "14        104.0             7660  3658.623412  1175.938157  5174.589249   \n",
      "33         44.0             5649  1647.642561   835.113033  3163.598325   \n",
      "34        144.0             5821  1819.613200   663.049261  3335.582901   \n",
      "49        125.0             7100  3098.620163   615.926874  4614.586896   \n",
      "72        120.0             7333  3331.621087   848.931176  4847.587555   \n",
      "74        136.0             5316  1314.612616  1168.060866  2830.583067   \n",
      "93        118.0             6277  2275.620805   207.070377  3791.587169   \n",
      "99         75.0             9323  5321.625896  2838.939552  6837.591525   \n",
      "129       130.0             5703  1701.616659   781.061082  3217.584820   \n",
      "139       128.0             6250  2248.618559   234.048762  3764.585822   \n",
      "148       120.0             5819  1817.619792   665.067362  3333.586496   \n",
      "150       108.0             6250  2248.623007   234.091484  3764.588478   \n",
      "152       120.0             6050  2048.620113   434.066925  3564.586716   \n",
      "153       112.0             9703  5701.622435  3218.932891  7217.588875   \n",
      "154       137.0             6608  2606.617394   123.858809  4122.585083   \n",
      "159       115.0             6045  2043.621330   439.072633  3559.587414   \n",
      "160        94.0             5250  1248.628905  1234.078274  2764.590500   \n",
      "163       120.0             7200  3198.621022   715.931056  4714.587490   \n",
      "185       143.0             5417  1415.610859  1067.056893  2931.582108   \n",
      "199       144.0             5746  1744.612795   738.051184  3260.582740   \n",
      "213        70.0             5503  1501.635841   981.093108  3017.594426   \n",
      "220       105.0             5500  1498.624190   984.075249  3014.588625   \n",
      "228       141.0             6822  2820.617083   337.899131  4336.584859   \n",
      "229       133.0             6216  2214.617368   268.041898  3730.585115   \n",
      "235       130.0             8750  4748.620498  2265.929371  6264.587285   \n",
      "238       130.0             5391  1389.615316  1093.063109  2905.584276   \n",
      "240       128.0             7167  3165.619742   682.925162  4681.586618   \n",
      "245       125.0             5488  1486.617476   996.065124  3002.585290   \n",
      "266       138.0             5829  1827.614883   655.053610  3343.583814   \n",
      "269       110.0             7250  3248.622586   765.937634  4764.588564   \n",
      "272       133.0             5935  1933.616601   549.055350  3449.584726   \n",
      "275       150.0             8624  4622.618276  2139.924554  6138.585602   \n",
      "276       105.0             6500  2498.623570    16.362516  4014.588940   \n",
      "280       138.0             7142  3140.618127   657.917310  4656.585527   \n",
      "290        84.0             7085  3083.626799   600.960863  4599.591343   \n",
      "294       128.0             7740  3738.620186  1255.928199  5254.586975   \n",
      "297       140.0             6000  1998.615047   484.046396  3514.583825   \n",
      "331       100.0             5677  1675.625519   807.079896  3191.589478   \n",
      "334       130.0             6783  2781.618982   298.913267  4297.586093   \n",
      "350        26.0             5468  1466.651156  1016.113901  2982.601855   \n",
      "353       132.0             5800  1798.616426   684.058613  3314.584666   \n",
      "359       150.0             6406  2404.614250    77.868801  3920.583178   \n",
      "376       128.0             5703  1701.617247   781.062362  3217.585131   \n",
      "\n",
      "     Cluster  \n",
      "3          2  \n",
      "14         2  \n",
      "33         2  \n",
      "34         2  \n",
      "49         2  \n",
      "72         2  \n",
      "74         2  \n",
      "93         2  \n",
      "99         2  \n",
      "129        2  \n",
      "139        2  \n",
      "148        2  \n",
      "150        2  \n",
      "152        2  \n",
      "153        2  \n",
      "154        2  \n",
      "159        2  \n",
      "160        2  \n",
      "163        2  \n",
      "185        2  \n",
      "199        2  \n",
      "213        2  \n",
      "220        2  \n",
      "228        2  \n",
      "229        2  \n",
      "235        2  \n",
      "238        2  \n",
      "240        2  \n",
      "245        2  \n",
      "266        2  \n",
      "269        2  \n",
      "272        2  \n",
      "275        2  \n",
      "276        2  \n",
      "280        2  \n",
      "290        2  \n",
      "294        2  \n",
      "297        2  \n",
      "331        2  \n",
      "334        2  \n",
      "350        2  \n",
      "353        2  \n",
      "359        2  \n",
      "376        2  \n",
      "     LoanAmount  ApplicantIncome            1            2           3  \\\n",
      "1          66.0             3000  1001.399149  3484.075775  514.620384   \n",
      "2         120.0             2583  1418.373707  3901.068042   97.473965   \n",
      "4          95.0             2333  1668.381746  4151.071062  152.417945   \n",
      "5          70.0             3200   801.402091  3284.075628  714.609051   \n",
      "6         109.0             2500  1501.377572  3984.069425   14.186348   \n",
      "..          ...              ...          ...          ...         ...   \n",
      "371       106.0             2726  1275.378786  3758.069899  240.571989   \n",
      "372        56.0             3000  1001.404142  3484.077210  514.630100   \n",
      "375        88.0             2987  1014.388026  3497.072601  501.599245   \n",
      "377       108.0             3232   769.378425  3252.069859  746.582780   \n",
      "378        71.0             2900  1101.394901  3584.074865  414.621710   \n",
      "\n",
      "     Cluster  \n",
      "1          3  \n",
      "2          3  \n",
      "4          3  \n",
      "5          3  \n",
      "6          3  \n",
      "..       ...  \n",
      "371        3  \n",
      "372        3  \n",
      "375        3  \n",
      "377        3  \n",
      "378        3  \n",
      "\n",
      "[178 rows x 6 columns]\n"
     ]
    }
   ],
   "source": [
    "for k in range(K):\n",
    "    data=X[X['Cluster']==k+1]\n",
    "    print(data)"
   ]
  },
  {
   "cell_type": "code",
   "execution_count": null,
   "metadata": {},
   "outputs": [],
   "source": []
  }
 ],
 "metadata": {
  "kernelspec": {
   "display_name": "Python 3",
   "language": "python",
   "name": "python3"
  },
  "language_info": {
   "codemirror_mode": {
    "name": "ipython",
    "version": 3
   },
   "file_extension": ".py",
   "mimetype": "text/x-python",
   "name": "python",
   "nbconvert_exporter": "python",
   "pygments_lexer": "ipython3",
   "version": "3.6.8"
  }
 },
 "nbformat": 4,
 "nbformat_minor": 4
}
